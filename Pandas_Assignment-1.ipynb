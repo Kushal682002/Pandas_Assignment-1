{
 "cells": [
  {
   "cell_type": "code",
   "execution_count": 7,
   "id": "6aad5f6b",
   "metadata": {},
   "outputs": [],
   "source": [
    "import pandas as pd"
   ]
  },
  {
   "cell_type": "markdown",
   "id": "35fad2b5",
   "metadata": {},
   "source": [
    "# Ans 1"
   ]
  },
  {
   "cell_type": "code",
   "execution_count": 8,
   "id": "58c3c511",
   "metadata": {},
   "outputs": [],
   "source": [
    "data = [4,8,15,16,23,42]"
   ]
  },
  {
   "cell_type": "code",
   "execution_count": 10,
   "id": "e3fe0d42",
   "metadata": {},
   "outputs": [],
   "source": [
    "series = pd.Series(data)"
   ]
  },
  {
   "cell_type": "code",
   "execution_count": 11,
   "id": "184d3843",
   "metadata": {},
   "outputs": [
    {
     "name": "stdout",
     "output_type": "stream",
     "text": [
      "0     4\n",
      "1     8\n",
      "2    15\n",
      "3    16\n",
      "4    23\n",
      "5    42\n",
      "dtype: int64\n"
     ]
    }
   ],
   "source": [
    "print(series)"
   ]
  },
  {
   "cell_type": "markdown",
   "id": "dd780f18",
   "metadata": {},
   "source": [
    "# Ans 2"
   ]
  },
  {
   "cell_type": "code",
   "execution_count": 12,
   "id": "53009096",
   "metadata": {},
   "outputs": [
    {
     "name": "stdout",
     "output_type": "stream",
     "text": [
      "<class 'list'>\n"
     ]
    }
   ],
   "source": [
    "data = [1,2,3,4,5,6,7,8,9,10];\n",
    "print(type(data))"
   ]
  },
  {
   "cell_type": "code",
   "execution_count": 13,
   "id": "eab1d4f6",
   "metadata": {},
   "outputs": [
    {
     "data": {
      "text/plain": [
       "[1, 2, 3, 4, 5, 6, 7, 8, 9, 10]"
      ]
     },
     "execution_count": 13,
     "metadata": {},
     "output_type": "execute_result"
    }
   ],
   "source": [
    "data"
   ]
  },
  {
   "cell_type": "code",
   "execution_count": 14,
   "id": "25c798cb",
   "metadata": {},
   "outputs": [
    {
     "name": "stdout",
     "output_type": "stream",
     "text": [
      "0     1\n",
      "1     2\n",
      "2     3\n",
      "3     4\n",
      "4     5\n",
      "5     6\n",
      "6     7\n",
      "7     8\n",
      "8     9\n",
      "9    10\n",
      "dtype: int64\n"
     ]
    }
   ],
   "source": [
    "series = pd.Series(data)\n",
    "print(series)"
   ]
  },
  {
   "cell_type": "markdown",
   "id": "c86f89f6",
   "metadata": {},
   "source": [
    "# Ans 3"
   ]
  },
  {
   "cell_type": "code",
   "execution_count": 19,
   "id": "41af2343",
   "metadata": {},
   "outputs": [],
   "source": [
    "data = {\"Name\":[\"Alice\",\"Bob\",\"Claire\"],\"Age\" : [25,30,27],\"Gender\" : [\"Female\",\"Male\",\"Female\"]}\n",
    "df = pd.DataFrame(data)"
   ]
  },
  {
   "cell_type": "code",
   "execution_count": 20,
   "id": "dd303b69",
   "metadata": {},
   "outputs": [
    {
     "data": {
      "text/html": [
       "<div>\n",
       "<style scoped>\n",
       "    .dataframe tbody tr th:only-of-type {\n",
       "        vertical-align: middle;\n",
       "    }\n",
       "\n",
       "    .dataframe tbody tr th {\n",
       "        vertical-align: top;\n",
       "    }\n",
       "\n",
       "    .dataframe thead th {\n",
       "        text-align: right;\n",
       "    }\n",
       "</style>\n",
       "<table border=\"1\" class=\"dataframe\">\n",
       "  <thead>\n",
       "    <tr style=\"text-align: right;\">\n",
       "      <th></th>\n",
       "      <th>Name</th>\n",
       "      <th>Age</th>\n",
       "      <th>Gender</th>\n",
       "    </tr>\n",
       "  </thead>\n",
       "  <tbody>\n",
       "    <tr>\n",
       "      <th>0</th>\n",
       "      <td>Alice</td>\n",
       "      <td>25</td>\n",
       "      <td>Female</td>\n",
       "    </tr>\n",
       "    <tr>\n",
       "      <th>1</th>\n",
       "      <td>Bob</td>\n",
       "      <td>30</td>\n",
       "      <td>Male</td>\n",
       "    </tr>\n",
       "    <tr>\n",
       "      <th>2</th>\n",
       "      <td>Claire</td>\n",
       "      <td>27</td>\n",
       "      <td>Female</td>\n",
       "    </tr>\n",
       "  </tbody>\n",
       "</table>\n",
       "</div>"
      ],
      "text/plain": [
       "     Name  Age  Gender\n",
       "0   Alice   25  Female\n",
       "1     Bob   30    Male\n",
       "2  Claire   27  Female"
      ]
     },
     "execution_count": 20,
     "metadata": {},
     "output_type": "execute_result"
    }
   ],
   "source": [
    "df"
   ]
  },
  {
   "cell_type": "markdown",
   "id": "750a38ac",
   "metadata": {},
   "source": [
    "# Ans 4"
   ]
  },
  {
   "cell_type": "markdown",
   "id": "24a1af4f",
   "metadata": {},
   "source": [
    "DataFrame --> It is a 2-dimensional labeled data structure with columns of potentially different types.It is similar to a table or a spreadsheet, where data is organized in rows and columns. A DataFrame can be seen as a collection of Pandas Series,where each column represents a Series.\n",
    "\n",
    "A Pandas Series, on the other hand, is a one-dimensional labeled array that can hold any data type.It is similar to a column in a DataFrame. Each element in a Series has a unique label called an index."
   ]
  },
  {
   "cell_type": "code",
   "execution_count": 21,
   "id": "a73c0cfb",
   "metadata": {},
   "outputs": [],
   "source": [
    "data1 = [4,8,15,16,23,42];"
   ]
  },
  {
   "cell_type": "code",
   "execution_count": 22,
   "id": "a42a9f74",
   "metadata": {},
   "outputs": [],
   "source": [
    "series = pd.Series(data1)"
   ]
  },
  {
   "cell_type": "code",
   "execution_count": 23,
   "id": "be3fe402",
   "metadata": {},
   "outputs": [
    {
     "data": {
      "text/plain": [
       "0     4\n",
       "1     8\n",
       "2    15\n",
       "3    16\n",
       "4    23\n",
       "5    42\n",
       "dtype: int64"
      ]
     },
     "execution_count": 23,
     "metadata": {},
     "output_type": "execute_result"
    }
   ],
   "source": [
    "series"
   ]
  },
  {
   "cell_type": "code",
   "execution_count": 24,
   "id": "2595849d",
   "metadata": {},
   "outputs": [],
   "source": [
    "data2 = ({\"Name\" : ['Alice','Bob','Claire'],\"Age\" : [25,30,27],\"Gender\" : [\"Female\",\"Male\",\"Female\"]})"
   ]
  },
  {
   "cell_type": "code",
   "execution_count": 25,
   "id": "a05f2b1c",
   "metadata": {},
   "outputs": [],
   "source": [
    "data = pd.DataFrame(data2)"
   ]
  },
  {
   "cell_type": "code",
   "execution_count": 26,
   "id": "a38a0da3",
   "metadata": {},
   "outputs": [
    {
     "data": {
      "text/html": [
       "<div>\n",
       "<style scoped>\n",
       "    .dataframe tbody tr th:only-of-type {\n",
       "        vertical-align: middle;\n",
       "    }\n",
       "\n",
       "    .dataframe tbody tr th {\n",
       "        vertical-align: top;\n",
       "    }\n",
       "\n",
       "    .dataframe thead th {\n",
       "        text-align: right;\n",
       "    }\n",
       "</style>\n",
       "<table border=\"1\" class=\"dataframe\">\n",
       "  <thead>\n",
       "    <tr style=\"text-align: right;\">\n",
       "      <th></th>\n",
       "      <th>Name</th>\n",
       "      <th>Age</th>\n",
       "      <th>Gender</th>\n",
       "    </tr>\n",
       "  </thead>\n",
       "  <tbody>\n",
       "    <tr>\n",
       "      <th>0</th>\n",
       "      <td>Alice</td>\n",
       "      <td>25</td>\n",
       "      <td>Female</td>\n",
       "    </tr>\n",
       "    <tr>\n",
       "      <th>1</th>\n",
       "      <td>Bob</td>\n",
       "      <td>30</td>\n",
       "      <td>Male</td>\n",
       "    </tr>\n",
       "    <tr>\n",
       "      <th>2</th>\n",
       "      <td>Claire</td>\n",
       "      <td>27</td>\n",
       "      <td>Female</td>\n",
       "    </tr>\n",
       "  </tbody>\n",
       "</table>\n",
       "</div>"
      ],
      "text/plain": [
       "     Name  Age  Gender\n",
       "0   Alice   25  Female\n",
       "1     Bob   30    Male\n",
       "2  Claire   27  Female"
      ]
     },
     "execution_count": 26,
     "metadata": {},
     "output_type": "execute_result"
    }
   ],
   "source": [
    "data"
   ]
  },
  {
   "cell_type": "markdown",
   "id": "50ac9d14",
   "metadata": {},
   "source": [
    "# Ans 5"
   ]
  },
  {
   "cell_type": "markdown",
   "id": "9cc4ee9a",
   "metadata": {},
   "source": [
    "Since there are various functions in pandas to manipulate data. Some of them are :-\n",
    "\n",
    "1.head() and tail()\n",
    "\n",
    "These functions allow you to view the first or last few rows of a DataFrame, respectively. They are useful for inspecting the data or getting a quick overview."
   ]
  },
  {
   "cell_type": "code",
   "execution_count": 27,
   "id": "c94bbb36",
   "metadata": {},
   "outputs": [],
   "source": [
    "df = pd.read_csv(r\"C:\\Users\\hp\\Downloads\\taxonomy.csv.xls\")"
   ]
  },
  {
   "cell_type": "code",
   "execution_count": 28,
   "id": "e5614cf0",
   "metadata": {},
   "outputs": [
    {
     "data": {
      "text/html": [
       "<div>\n",
       "<style scoped>\n",
       "    .dataframe tbody tr th:only-of-type {\n",
       "        vertical-align: middle;\n",
       "    }\n",
       "\n",
       "    .dataframe tbody tr th {\n",
       "        vertical-align: top;\n",
       "    }\n",
       "\n",
       "    .dataframe thead th {\n",
       "        text-align: right;\n",
       "    }\n",
       "</style>\n",
       "<table border=\"1\" class=\"dataframe\">\n",
       "  <thead>\n",
       "    <tr style=\"text-align: right;\">\n",
       "      <th></th>\n",
       "      <th>taxonomy_id</th>\n",
       "      <th>name</th>\n",
       "      <th>parent_id</th>\n",
       "      <th>parent_name</th>\n",
       "    </tr>\n",
       "  </thead>\n",
       "  <tbody>\n",
       "    <tr>\n",
       "      <th>0</th>\n",
       "      <td>101</td>\n",
       "      <td>Emergency</td>\n",
       "      <td>NaN</td>\n",
       "      <td>NaN</td>\n",
       "    </tr>\n",
       "    <tr>\n",
       "      <th>1</th>\n",
       "      <td>101-01</td>\n",
       "      <td>Disaster Response</td>\n",
       "      <td>101</td>\n",
       "      <td>Emergency</td>\n",
       "    </tr>\n",
       "    <tr>\n",
       "      <th>2</th>\n",
       "      <td>101-02</td>\n",
       "      <td>Emergency Cash</td>\n",
       "      <td>101</td>\n",
       "      <td>Emergency</td>\n",
       "    </tr>\n",
       "    <tr>\n",
       "      <th>3</th>\n",
       "      <td>101-02-01</td>\n",
       "      <td>Help Pay for Food</td>\n",
       "      <td>101-02</td>\n",
       "      <td>Emergency Cash</td>\n",
       "    </tr>\n",
       "    <tr>\n",
       "      <th>4</th>\n",
       "      <td>101-02-02</td>\n",
       "      <td>Help Pay for Healthcare</td>\n",
       "      <td>101-02</td>\n",
       "      <td>Emergency Cash</td>\n",
       "    </tr>\n",
       "  </tbody>\n",
       "</table>\n",
       "</div>"
      ],
      "text/plain": [
       "  taxonomy_id                     name parent_id     parent_name\n",
       "0         101                Emergency       NaN             NaN\n",
       "1      101-01        Disaster Response       101       Emergency\n",
       "2      101-02           Emergency Cash       101       Emergency\n",
       "3   101-02-01        Help Pay for Food    101-02  Emergency Cash\n",
       "4   101-02-02  Help Pay for Healthcare    101-02  Emergency Cash"
      ]
     },
     "execution_count": 28,
     "metadata": {},
     "output_type": "execute_result"
    }
   ],
   "source": [
    "df.head()"
   ]
  },
  {
   "cell_type": "code",
   "execution_count": 29,
   "id": "c9eb1bf2",
   "metadata": {},
   "outputs": [
    {
     "data": {
      "text/html": [
       "<div>\n",
       "<style scoped>\n",
       "    .dataframe tbody tr th:only-of-type {\n",
       "        vertical-align: middle;\n",
       "    }\n",
       "\n",
       "    .dataframe tbody tr th {\n",
       "        vertical-align: top;\n",
       "    }\n",
       "\n",
       "    .dataframe thead th {\n",
       "        text-align: right;\n",
       "    }\n",
       "</style>\n",
       "<table border=\"1\" class=\"dataframe\">\n",
       "  <thead>\n",
       "    <tr style=\"text-align: right;\">\n",
       "      <th></th>\n",
       "      <th>taxonomy_id</th>\n",
       "      <th>name</th>\n",
       "      <th>parent_id</th>\n",
       "      <th>parent_name</th>\n",
       "    </tr>\n",
       "  </thead>\n",
       "  <tbody>\n",
       "    <tr>\n",
       "      <th>285</th>\n",
       "      <td>111-01-07</td>\n",
       "      <td>Workplace Rights</td>\n",
       "      <td>111-01</td>\n",
       "      <td>Advocacy &amp; Legal Aid</td>\n",
       "    </tr>\n",
       "    <tr>\n",
       "      <th>286</th>\n",
       "      <td>111-02</td>\n",
       "      <td>Mediation</td>\n",
       "      <td>111</td>\n",
       "      <td>Legal</td>\n",
       "    </tr>\n",
       "    <tr>\n",
       "      <th>287</th>\n",
       "      <td>111-03</td>\n",
       "      <td>Notary</td>\n",
       "      <td>111</td>\n",
       "      <td>Legal</td>\n",
       "    </tr>\n",
       "    <tr>\n",
       "      <th>288</th>\n",
       "      <td>111-04</td>\n",
       "      <td>Representation</td>\n",
       "      <td>111</td>\n",
       "      <td>Legal</td>\n",
       "    </tr>\n",
       "    <tr>\n",
       "      <th>289</th>\n",
       "      <td>111-05</td>\n",
       "      <td>Translation &amp; Interpretation</td>\n",
       "      <td>111</td>\n",
       "      <td>Legal</td>\n",
       "    </tr>\n",
       "  </tbody>\n",
       "</table>\n",
       "</div>"
      ],
      "text/plain": [
       "    taxonomy_id                          name parent_id           parent_name\n",
       "285   111-01-07              Workplace Rights    111-01  Advocacy & Legal Aid\n",
       "286      111-02                     Mediation       111                 Legal\n",
       "287      111-03                        Notary       111                 Legal\n",
       "288      111-04                Representation       111                 Legal\n",
       "289      111-05  Translation & Interpretation       111                 Legal"
      ]
     },
     "execution_count": 29,
     "metadata": {},
     "output_type": "execute_result"
    }
   ],
   "source": [
    "df.tail()"
   ]
  },
  {
   "cell_type": "markdown",
   "id": "320d5310",
   "metadata": {},
   "source": [
    "2.info() -->\n",
    "\n",
    "This function provides a summary of the DataFrame, including the column names,data types, and non-null values.It is useful for understanding the structure of the DataFrame.\n"
   ]
  },
  {
   "cell_type": "code",
   "execution_count": 31,
   "id": "9d3528e2",
   "metadata": {},
   "outputs": [
    {
     "name": "stdout",
     "output_type": "stream",
     "text": [
      "<class 'pandas.core.frame.DataFrame'>\n",
      "RangeIndex: 290 entries, 0 to 289\n",
      "Data columns (total 4 columns):\n",
      " #   Column       Non-Null Count  Dtype \n",
      "---  ------       --------------  ----- \n",
      " 0   taxonomy_id  290 non-null    object\n",
      " 1   name         290 non-null    object\n",
      " 2   parent_id    279 non-null    object\n",
      " 3   parent_name  279 non-null    object\n",
      "dtypes: object(4)\n",
      "memory usage: 9.2+ KB\n"
     ]
    }
   ],
   "source": [
    "df.info()"
   ]
  },
  {
   "cell_type": "markdown",
   "id": "14f7abb2",
   "metadata": {},
   "source": [
    "3. describe() --->\n",
    "\n",
    "This function generates descriptive statistics of the DataFrame, such as count,mean,standard deviation,minimum,maximum, and quartile values.It provides a quick statistical summary of the data."
   ]
  },
  {
   "cell_type": "code",
   "execution_count": 32,
   "id": "802b9d5e",
   "metadata": {},
   "outputs": [
    {
     "data": {
      "text/html": [
       "<div>\n",
       "<style scoped>\n",
       "    .dataframe tbody tr th:only-of-type {\n",
       "        vertical-align: middle;\n",
       "    }\n",
       "\n",
       "    .dataframe tbody tr th {\n",
       "        vertical-align: top;\n",
       "    }\n",
       "\n",
       "    .dataframe thead th {\n",
       "        text-align: right;\n",
       "    }\n",
       "</style>\n",
       "<table border=\"1\" class=\"dataframe\">\n",
       "  <thead>\n",
       "    <tr style=\"text-align: right;\">\n",
       "      <th></th>\n",
       "      <th>taxonomy_id</th>\n",
       "      <th>name</th>\n",
       "      <th>parent_id</th>\n",
       "      <th>parent_name</th>\n",
       "    </tr>\n",
       "  </thead>\n",
       "  <tbody>\n",
       "    <tr>\n",
       "      <th>count</th>\n",
       "      <td>290</td>\n",
       "      <td>290</td>\n",
       "      <td>279</td>\n",
       "      <td>279</td>\n",
       "    </tr>\n",
       "    <tr>\n",
       "      <th>unique</th>\n",
       "      <td>290</td>\n",
       "      <td>183</td>\n",
       "      <td>60</td>\n",
       "      <td>50</td>\n",
       "    </tr>\n",
       "    <tr>\n",
       "      <th>top</th>\n",
       "      <td>101</td>\n",
       "      <td>Nursing Home</td>\n",
       "      <td>106-06-07</td>\n",
       "      <td>Health Education</td>\n",
       "    </tr>\n",
       "    <tr>\n",
       "      <th>freq</th>\n",
       "      <td>1</td>\n",
       "      <td>4</td>\n",
       "      <td>11</td>\n",
       "      <td>15</td>\n",
       "    </tr>\n",
       "  </tbody>\n",
       "</table>\n",
       "</div>"
      ],
      "text/plain": [
       "       taxonomy_id          name  parent_id       parent_name\n",
       "count          290           290        279               279\n",
       "unique         290           183         60                50\n",
       "top            101  Nursing Home  106-06-07  Health Education\n",
       "freq             1             4         11                15"
      ]
     },
     "execution_count": 32,
     "metadata": {},
     "output_type": "execute_result"
    }
   ],
   "source": [
    "df.describe()"
   ]
  },
  {
   "cell_type": "markdown",
   "id": "3750d432",
   "metadata": {},
   "source": [
    "4. shape() --->\n",
    "\n",
    "This attribute returns the dimensions(rows and columns) of the DataFrame as a tuple."
   ]
  },
  {
   "cell_type": "code",
   "execution_count": 33,
   "id": "75eb163b",
   "metadata": {},
   "outputs": [
    {
     "data": {
      "text/plain": [
       "(290, 4)"
      ]
     },
     "execution_count": 33,
     "metadata": {},
     "output_type": "execute_result"
    }
   ],
   "source": [
    "df.shape"
   ]
  },
  {
   "cell_type": "markdown",
   "id": "b132d861",
   "metadata": {},
   "source": [
    "5. fillna() -->\n",
    "\n",
    "This function if used to fill missing values in the DataFrame with a specified values or a strategy like forward fill or backward fill"
   ]
  },
  {
   "cell_type": "code",
   "execution_count": 34,
   "id": "e203bee6",
   "metadata": {},
   "outputs": [
    {
     "data": {
      "text/html": [
       "<div>\n",
       "<style scoped>\n",
       "    .dataframe tbody tr th:only-of-type {\n",
       "        vertical-align: middle;\n",
       "    }\n",
       "\n",
       "    .dataframe tbody tr th {\n",
       "        vertical-align: top;\n",
       "    }\n",
       "\n",
       "    .dataframe thead th {\n",
       "        text-align: right;\n",
       "    }\n",
       "</style>\n",
       "<table border=\"1\" class=\"dataframe\">\n",
       "  <thead>\n",
       "    <tr style=\"text-align: right;\">\n",
       "      <th></th>\n",
       "      <th>taxonomy_id</th>\n",
       "      <th>name</th>\n",
       "      <th>parent_id</th>\n",
       "      <th>parent_name</th>\n",
       "    </tr>\n",
       "  </thead>\n",
       "  <tbody>\n",
       "    <tr>\n",
       "      <th>0</th>\n",
       "      <td>101</td>\n",
       "      <td>Emergency</td>\n",
       "      <td>Kushal</td>\n",
       "      <td>Kushal</td>\n",
       "    </tr>\n",
       "    <tr>\n",
       "      <th>1</th>\n",
       "      <td>101-01</td>\n",
       "      <td>Disaster Response</td>\n",
       "      <td>101</td>\n",
       "      <td>Emergency</td>\n",
       "    </tr>\n",
       "    <tr>\n",
       "      <th>2</th>\n",
       "      <td>101-02</td>\n",
       "      <td>Emergency Cash</td>\n",
       "      <td>101</td>\n",
       "      <td>Emergency</td>\n",
       "    </tr>\n",
       "    <tr>\n",
       "      <th>3</th>\n",
       "      <td>101-02-01</td>\n",
       "      <td>Help Pay for Food</td>\n",
       "      <td>101-02</td>\n",
       "      <td>Emergency Cash</td>\n",
       "    </tr>\n",
       "    <tr>\n",
       "      <th>4</th>\n",
       "      <td>101-02-02</td>\n",
       "      <td>Help Pay for Healthcare</td>\n",
       "      <td>101-02</td>\n",
       "      <td>Emergency Cash</td>\n",
       "    </tr>\n",
       "    <tr>\n",
       "      <th>...</th>\n",
       "      <td>...</td>\n",
       "      <td>...</td>\n",
       "      <td>...</td>\n",
       "      <td>...</td>\n",
       "    </tr>\n",
       "    <tr>\n",
       "      <th>285</th>\n",
       "      <td>111-01-07</td>\n",
       "      <td>Workplace Rights</td>\n",
       "      <td>111-01</td>\n",
       "      <td>Advocacy &amp; Legal Aid</td>\n",
       "    </tr>\n",
       "    <tr>\n",
       "      <th>286</th>\n",
       "      <td>111-02</td>\n",
       "      <td>Mediation</td>\n",
       "      <td>111</td>\n",
       "      <td>Legal</td>\n",
       "    </tr>\n",
       "    <tr>\n",
       "      <th>287</th>\n",
       "      <td>111-03</td>\n",
       "      <td>Notary</td>\n",
       "      <td>111</td>\n",
       "      <td>Legal</td>\n",
       "    </tr>\n",
       "    <tr>\n",
       "      <th>288</th>\n",
       "      <td>111-04</td>\n",
       "      <td>Representation</td>\n",
       "      <td>111</td>\n",
       "      <td>Legal</td>\n",
       "    </tr>\n",
       "    <tr>\n",
       "      <th>289</th>\n",
       "      <td>111-05</td>\n",
       "      <td>Translation &amp; Interpretation</td>\n",
       "      <td>111</td>\n",
       "      <td>Legal</td>\n",
       "    </tr>\n",
       "  </tbody>\n",
       "</table>\n",
       "<p>290 rows × 4 columns</p>\n",
       "</div>"
      ],
      "text/plain": [
       "    taxonomy_id                          name parent_id           parent_name\n",
       "0           101                     Emergency    Kushal                Kushal\n",
       "1        101-01             Disaster Response       101             Emergency\n",
       "2        101-02                Emergency Cash       101             Emergency\n",
       "3     101-02-01             Help Pay for Food    101-02        Emergency Cash\n",
       "4     101-02-02       Help Pay for Healthcare    101-02        Emergency Cash\n",
       "..          ...                           ...       ...                   ...\n",
       "285   111-01-07              Workplace Rights    111-01  Advocacy & Legal Aid\n",
       "286      111-02                     Mediation       111                 Legal\n",
       "287      111-03                        Notary       111                 Legal\n",
       "288      111-04                Representation       111                 Legal\n",
       "289      111-05  Translation & Interpretation       111                 Legal\n",
       "\n",
       "[290 rows x 4 columns]"
      ]
     },
     "execution_count": 34,
     "metadata": {},
     "output_type": "execute_result"
    }
   ],
   "source": [
    "df.fillna(\"Kushal\")"
   ]
  },
  {
   "cell_type": "markdown",
   "id": "2e10b872",
   "metadata": {},
   "source": [
    "# Ans 6"
   ]
  },
  {
   "cell_type": "markdown",
   "id": "69a72e59",
   "metadata": {},
   "source": [
    "Among the options provided, the mutable(modifiable) data structure in pandas is the DataFrame.Both Series and Panel are immutable, meaning their values cannot be changed once they are created.However, DataFrame allows for modifications, such as adding or removing rows and columns, updating values, or applying various data transformations."
   ]
  },
  {
   "cell_type": "markdown",
   "id": "da63acff",
   "metadata": {},
   "source": [
    "# Ans 7"
   ]
  },
  {
   "cell_type": "code",
   "execution_count": 35,
   "id": "717a1b17",
   "metadata": {},
   "outputs": [],
   "source": [
    "name = pd.Series(['Kushal','Agrawal','sudh'])\n",
    "age = pd.Series([25,34,23])\n",
    "city = pd.Series(['Kota','Noida','Jaipur'])"
   ]
  },
  {
   "cell_type": "code",
   "execution_count": 36,
   "id": "88f7e363",
   "metadata": {},
   "outputs": [],
   "source": [
    "data = {'Name' : name,'Age' : age,'City' : city}\n",
    "df = pd.DataFrame(data)"
   ]
  },
  {
   "cell_type": "code",
   "execution_count": 37,
   "id": "8d9322bd",
   "metadata": {},
   "outputs": [
    {
     "data": {
      "text/html": [
       "<div>\n",
       "<style scoped>\n",
       "    .dataframe tbody tr th:only-of-type {\n",
       "        vertical-align: middle;\n",
       "    }\n",
       "\n",
       "    .dataframe tbody tr th {\n",
       "        vertical-align: top;\n",
       "    }\n",
       "\n",
       "    .dataframe thead th {\n",
       "        text-align: right;\n",
       "    }\n",
       "</style>\n",
       "<table border=\"1\" class=\"dataframe\">\n",
       "  <thead>\n",
       "    <tr style=\"text-align: right;\">\n",
       "      <th></th>\n",
       "      <th>Name</th>\n",
       "      <th>Age</th>\n",
       "      <th>City</th>\n",
       "    </tr>\n",
       "  </thead>\n",
       "  <tbody>\n",
       "    <tr>\n",
       "      <th>0</th>\n",
       "      <td>Kushal</td>\n",
       "      <td>25</td>\n",
       "      <td>Kota</td>\n",
       "    </tr>\n",
       "    <tr>\n",
       "      <th>1</th>\n",
       "      <td>Agrawal</td>\n",
       "      <td>34</td>\n",
       "      <td>Noida</td>\n",
       "    </tr>\n",
       "    <tr>\n",
       "      <th>2</th>\n",
       "      <td>sudh</td>\n",
       "      <td>23</td>\n",
       "      <td>Jaipur</td>\n",
       "    </tr>\n",
       "  </tbody>\n",
       "</table>\n",
       "</div>"
      ],
      "text/plain": [
       "      Name  Age    City\n",
       "0   Kushal   25    Kota\n",
       "1  Agrawal   34   Noida\n",
       "2     sudh   23  Jaipur"
      ]
     },
     "execution_count": 37,
     "metadata": {},
     "output_type": "execute_result"
    }
   ],
   "source": [
    "df"
   ]
  },
  {
   "cell_type": "code",
   "execution_count": null,
   "id": "dcfc9cdf",
   "metadata": {},
   "outputs": [],
   "source": []
  }
 ],
 "metadata": {
  "kernelspec": {
   "display_name": "Python 3 (ipykernel)",
   "language": "python",
   "name": "python3"
  },
  "language_info": {
   "codemirror_mode": {
    "name": "ipython",
    "version": 3
   },
   "file_extension": ".py",
   "mimetype": "text/x-python",
   "name": "python",
   "nbconvert_exporter": "python",
   "pygments_lexer": "ipython3",
   "version": "3.11.2"
  }
 },
 "nbformat": 4,
 "nbformat_minor": 5
}
